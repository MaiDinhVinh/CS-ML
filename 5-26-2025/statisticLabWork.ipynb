{
 "cells": [
  {
   "cell_type": "code",
   "id": "initial_id",
   "metadata": {
    "collapsed": true,
    "ExecuteTime": {
     "end_time": "2025-06-30T10:55:57.547949Z",
     "start_time": "2025-06-30T10:55:57.543078Z"
    }
   },
   "source": [
    "#EX 1\n",
    "import numpy as np\n",
    "data = [10, 12, 14, 15, 18, 21, 22, 23, 50]  # 50 is an outlier\n",
    "dataset_std = np.std(data)\n",
    "outliers = [outlier for outlier in data if outlier > (2*dataset_std)]\n",
    "outliers"
   ],
   "outputs": [
    {
     "data": {
      "text/plain": [
       "[23, 50]"
      ]
     },
     "execution_count": 10,
     "metadata": {},
     "output_type": "execute_result"
    }
   ],
   "execution_count": 10
  },
  {
   "metadata": {
    "ExecuteTime": {
     "end_time": "2025-06-30T11:02:57.404067Z",
     "start_time": "2025-06-30T11:02:57.397868Z"
    }
   },
   "cell_type": "code",
   "source": [
    "#EX 2\n",
    "#Weighted mean = E(X)\n",
    "grades = [90, 85, 80, 95]\n",
    "weights = [0.3, 0.2, 0.2, 0.3]  # Sum of weights should be 1\n",
    "print(sum([g*w for g, w in zip(grades, weights)]))"
   ],
   "id": "6cb15fdc37b1db89",
   "outputs": [
    {
     "name": "stdout",
     "output_type": "stream",
     "text": [
      "88.5\n"
     ]
    }
   ],
   "execution_count": 12
  },
  {
   "metadata": {
    "ExecuteTime": {
     "end_time": "2025-06-30T11:31:34.971175Z",
     "start_time": "2025-06-30T11:31:34.960542Z"
    }
   },
   "cell_type": "code",
   "source": [
    "#EX 3\n",
    "import numpy as np\n",
    "\n",
    "marketing_spend = [1000, 2000, 3000, 4000, 5000, 6000]\n",
    "sales = [5000, 7000, 9000, 11000, 13000, 15000]\n",
    "\n",
    "\n",
    "total_pairs = 0\n",
    "for _, _ in zip(marketing_spend, sales):\n",
    "    total_pairs += 1\n",
    "\n",
    "mean_mkt_spend = np.mean(marketing_spend)\n",
    "mean_sales = np.mean(sales)\n",
    "\n",
    "difference_mkt_elements_with_mean = [element - mean_mkt_spend for element in marketing_spend]\n",
    "difference_sale_elements_with_mean = [e - mean_sales for e in sales]\n",
    "product_between_difference = [d1 * d2 for d1, d2 in zip(difference_mkt_elements_with_mean, difference_sale_elements_with_mean)]\n",
    "sum_of_products = sum(product_between_difference)\n",
    "cov = sum_of_products/total_pairs\n",
    "marketing_spend_std = np.std(marketing_spend)\n",
    "sales_std = np.std(sales)\n",
    "print(cov/(marketing_spend_std*sales_std))\n",
    "\n",
    "#Chua biet cach su dung numpy vi no lai tra ra ma tran cac gia tri?"
   ],
   "id": "9b8dc5e4e2bfd79",
   "outputs": [
    {
     "name": "stdout",
     "output_type": "stream",
     "text": [
      "1.0\n"
     ]
    }
   ],
   "execution_count": 18
  },
  {
   "metadata": {
    "ExecuteTime": {
     "end_time": "2025-06-30T15:50:48.236250Z",
     "start_time": "2025-06-30T15:50:48.216300Z"
    }
   },
   "cell_type": "code",
   "source": [
    "#EX 4\n",
    "import numpy as np\n",
    "import pandas as pd\n",
    "from scipy import stats as st\n",
    "\n",
    "def skewed_or_normal(dataset) -> str:\n",
    "    dset_mean = np.mean(dataset)\n",
    "    dset_median = np.median(dataset)\n",
    "    dset_mode_as_nparray = st.mode(dataset)\n",
    "    dset_mode = dset_mode_as_nparray.mode[0][0]\n",
    "\n",
    "    if(dset_mean > dset_median > dset_mode):\n",
    "        return \"dataset is positively skewed\"\n",
    "    elif(dset_mean == dset_median == dset_mode):\n",
    "        return \"dataset is normally distributed\"\n",
    "    else:\n",
    "        return \"dataset is negatively skewed\" #approximation is impossible - case 1\n",
    "    #What happen if 2 out of 3 coefficients are the same ? - case 2\n",
    "\n",
    "\n",
    "dataset1 = pd.read_csv(\"three_skewed_datasets.csv\", index_col=False , usecols=[\"dataset_1\"])\n",
    "numpy_dset_1 = dataset1.to_numpy()\n",
    "print(skewed_or_normal(numpy_dset_1))\n",
    "\n",
    "dataset2 = pd.read_csv(\"three_skewed_datasets.csv\", index_col=False , usecols=[\"dataset_2\"])\n",
    "numpy_dset_2= dataset2.to_numpy()\n",
    "print(skewed_or_normal(numpy_dset_2))\n",
    "\n",
    "dataset3 = pd.read_csv(\"three_skewed_datasets.csv\", index_col=False , usecols=[\"dataset_3\"])\n",
    "numpy_dset_3= dataset3.to_numpy()\n",
    "print(skewed_or_normal(numpy_dset_3))"
   ],
   "id": "5955f93ec0970f1b",
   "outputs": [
    {
     "name": "stdout",
     "output_type": "stream",
     "text": [
      "dataset is positively skewed\n",
      "dataset is negatively skewed\n",
      "dataset is negatively skewed\n"
     ]
    }
   ],
   "execution_count": 3
  }
 ],
 "metadata": {
  "kernelspec": {
   "display_name": "Python 3",
   "language": "python",
   "name": "python3"
  },
  "language_info": {
   "codemirror_mode": {
    "name": "ipython",
    "version": 2
   },
   "file_extension": ".py",
   "mimetype": "text/x-python",
   "name": "python",
   "nbconvert_exporter": "python",
   "pygments_lexer": "ipython2",
   "version": "2.7.6"
  }
 },
 "nbformat": 4,
 "nbformat_minor": 5
}
