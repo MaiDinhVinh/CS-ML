{
 "cells": [
  {
   "metadata": {},
   "cell_type": "markdown",
   "source": [
    "## Monte Carlo Simulation - Mathematic Approach\n",
    "_**Winner requirement:**_\n",
    "1. **Roll a fair 6-sided dice and get a 5 or a 6**.\n",
    "2. **Flip a fair coin and get heads**.\n",
    "3. **Draw a red card from a shuffled standard deck of 52 cards**\n",
    "   (26 red cards: 13 hearts + 13 diamonds).\n",
    "4. **Spin a roulette wheel and land on a number divisible by 3**\n",
    "   (Roulette wheel has 36 numbers from 1 to 36).\n",
    "\n",
    "_**Probability to get a 5 or a 6 in 6-sided dice**_\n",
    "$$\n",
    "P(5\\ or\\ 6) = \\frac{2}{6}\n",
    "$$\n",
    "\n",
    "_**Probability to flip a head from a fair coin**_\n",
    "$$\n",
    "P(head) = \\frac{1}{2}\n",
    "$$\n",
    "\n",
    "_**Probability to draw a red card from a shuffled standard deck of 52 cards**_\n",
    "$$\n",
    "P(red\\ cards) = \\frac{26}{52}\n",
    "$$\n",
    "\n",
    "_**Probability to spin a number divisible by 3 on a roulette wheel**_\n",
    "$$\n",
    "P(divisible\\ by\\ 3) = \\frac{12}{36}\n",
    "$$\n",
    "\n",
    "_**Therefore, we have:**_\n",
    "$$\n",
    "P(win) = \\frac{2}{6} \\times \\frac{1}{2} \\times \\frac{26}{52} \\times \\frac{12}{36} = \\frac{11}{432} \\approx 0.02778\n",
    "$$"
   ],
   "id": "20817cfa29be46e2"
  },
  {
   "metadata": {
    "ExecuteTime": {
     "end_time": "2025-07-03T10:41:38.393396Z",
     "start_time": "2025-07-03T10:41:35.585606Z"
    }
   },
   "cell_type": "code",
   "source": [
    "#Monte Carlo Simulation - Empherical Approach\n",
    "from typing import List\n",
    "import numpy as np\n",
    "import random\n",
    "result:List[bool] = []\n",
    "shuffled_deck: List[str] = []\n",
    "deck: List[str] = [\"r\",\"r\",\"r\",\"r\",\"r\",\"r\",\"r\",\"r\",\"r\",\"r\",\"r\",\"r\",\"r\",\"r\",\"r\",\"r\",\"r\",\"r\",\"r\",\"r\",\"r\",\"r\",\"r\",\"r\",\"r\",\"r\",\"b\",\"b\",\"b\",\"b\",\"b\",\"b\",\"b\",\"b\",\"b\",\"b\",\"b\",\"b\",\"b\",\"b\",\"b\",\"b\",\"b\",\"b\",\"b\",\"b\",\"b\",\"b\",\"b\",\"b\",\"b\",\"b\"]\n",
    "def shuffle():\n",
    "    rand: int = 51\n",
    "    for i in range(52):\n",
    "        random_index: int = random.randint(0, rand)\n",
    "        shuffled_deck.append(deck[random_index])\n",
    "        deck.__delitem__(random_index)\n",
    "        rand -= 1\n",
    "\n",
    "shuffle()\n",
    "for _ in range(1000000):\n",
    "    dice = random.randint(1, 6)\n",
    "    coin = random.randint(0, 1) #0 for tail 1 for head\n",
    "    card = shuffled_deck[random.randint(0, 51)]\n",
    "    roulette = random.randint(1, 36)\n",
    "    if (dice == 5 or dice == 6) and coin == 1 and card == \"r\" and roulette % 3 == 0:\n",
    "        result.append(True)\n",
    "    else:\n",
    "        result.append(False)\n",
    "sum: int = 0\n",
    "for i in range(len(result)):\n",
    "    if result[i]:\n",
    "        sum+=1\n",
    "sum/1000000"
   ],
   "id": "f4248757771e64d4",
   "outputs": [
    {
     "data": {
      "text/plain": [
       "0.027787"
      ]
     },
     "execution_count": 10,
     "metadata": {},
     "output_type": "execute_result"
    }
   ],
   "execution_count": 10
  }
 ],
 "metadata": {
  "kernelspec": {
   "display_name": "Python 3",
   "language": "python",
   "name": "python3"
  },
  "language_info": {
   "codemirror_mode": {
    "name": "ipython",
    "version": 2
   },
   "file_extension": ".py",
   "mimetype": "text/x-python",
   "name": "python",
   "nbconvert_exporter": "python",
   "pygments_lexer": "ipython2",
   "version": "2.7.6"
  }
 },
 "nbformat": 4,
 "nbformat_minor": 5
}
