{
 "cells": [
  {
   "cell_type": "markdown",
   "metadata": {},
   "source": [
    "# Introduction to Vectors\n",
    "\n",
    "## What is a Vector?\n",
    "In mathematics, a **vector** is a quantity that has both magnitude and direction. Vectors are commonly represented as arrows in space, where:\n",
    "- The **length** of the arrow represents the magnitude.\n",
    "- The **direction** of the arrow represents the direction of the vector.\n",
    "\n",
    "Vectors are fundamental in physics, engineering, and computer science, as they can represent quantities like velocity, force, and displacement.\n",
    "\n",
    "---\n",
    "\n",
    "## Notation of Vectors\n",
    "A vector is typically denoted using bold letters or an arrow above the letter. For example:\n",
    "- **Bold Notation**: **v**\n",
    "- **Arrow Notation**: $\\vec{v}$\n",
    "\n",
    "A vector in two-dimensional space (2D) is represented as:\n",
    "$$\n",
    "\\vec{v} = \\begin{bmatrix} v_x \\\\ v_y \\end{bmatrix}\n",
    "$$\n",
    "Where:\n",
    "- $v_x$: The x-component of the vector.\n",
    "- $v_y$: The y-component of the vector.\n",
    "\n",
    "In three-dimensional space (3D), a vector is represented as:\n",
    "$$\n",
    "\\vec{v} = \\begin{bmatrix} v_x \\\\ v_y \\\\ v_z \\end{bmatrix}\n",
    "$$\n",
    "Where:\n",
    "- $v_x$, $v_y$, $v_z$: The components of the vector along the $x$, $y$, and $z$ axes.\n",
    "\n",
    "---\n",
    "\n",
    "## Magnitude of a Vector\n",
    "The magnitude (or length) of a vector $\\vec{v}$ is calculated using the formula:\n",
    "$$\n",
    "|\\vec{v}| = \\sqrt{v_x^2 + v_y^2} \\quad \\text{(in 2D)}\n",
    "$$\n",
    "$$\n",
    "|\\vec{v}| = \\sqrt{v_x^2 + v_y^2 + v_z^2} \\quad \\text{(in 3D)}\n",
    "$$\n",
    "\n",
    "### Example:\n",
    "If $\\vec{v} = \\begin{bmatrix} 3 \\\\ 4 \\end{bmatrix}$, then:\n",
    "$$\n",
    "|\\vec{v}| = \\sqrt{3^2 + 4^2} = \\sqrt{9 + 16} = \\sqrt{25} = 5\n",
    "$$\n",
    "\n",
    "---\n",
    "\n",
    "## Operations on Vectors\n",
    "\n",
    "### 1. **Addition of Vectors**\n",
    "Vectors are added component-wise. If:\n",
    "$$\n",
    "\\vec{u} = \\begin{bmatrix} u_x \\\\ u_y \\end{bmatrix}, \\quad \\vec{v} = \\begin{bmatrix} v_x \\\\ v_y \\end{bmatrix}\n",
    "$$\n",
    "Then:\n",
    "$$\n",
    "\\vec{u} + \\vec{v} = \\begin{bmatrix} u_x + v_x \\\\ u_y + v_y \\end{bmatrix}\n",
    "$$\n",
    "\n",
    "### Example:\n",
    "If $\\vec{u} = \\begin{bmatrix} 1 \\\\ 2 \\end{bmatrix}$ and $\\vec{v} = \\begin{bmatrix} 3 \\\\ 4 \\end{bmatrix}$, then:\n",
    "$$\n",
    "\\vec{u} + \\vec{v} = \\begin{bmatrix} 1 + 3 \\\\ 2 + 4 \\end{bmatrix} = \\begin{bmatrix} 4 \\\\ 6 \\end{bmatrix}\n",
    "$$\n",
    "\n",
    "---\n",
    "\n",
    "### 2. **Scalar Multiplication**\n",
    "A vector can be multiplied by a scalar (a real number). If $k$ is a scalar and $\\vec{v} = \\begin{bmatrix} v_x \\\\ v_y \\end{bmatrix}$, then:\n",
    "$$\n",
    "k \\vec{v} = \\begin{bmatrix} k v_x \\\\ k v_y \\end{bmatrix}\n",
    "$$\n",
    "\n",
    "### Example:\n",
    "If $k = 2$ and $\\vec{v} = \\begin{bmatrix} 3 \\\\ 4 \\end{bmatrix}$, then:\n",
    "$$\n",
    "2 \\vec{v} = \\begin{bmatrix} 2 \\cdot 3 \\\\ 2 \\cdot 4 \\end{bmatrix} = \\begin{bmatrix} 6 \\\\ 8 \\end{bmatrix}\n",
    "$$\n",
    "\n",
    "---\n",
    "\n",
    "### 3. **Dot Product**\n",
    "The dot product (scalar product) of two vectors $\\vec{u}$ and $\\vec{v}$ is given by:\n",
    "$$\n",
    "\\vec{u} \\cdot \\vec{v} = u_x v_x + u_y v_y \\quad \\text{(in 2D)}\n",
    "$$\n",
    "$$\n",
    "\\vec{u} \\cdot \\vec{v} = u_x v_x + u_y v_y + u_z v_z \\quad \\text{(in 3D)}\n",
    "$$\n",
    "\n",
    "### Example:\n",
    "If $\\vec{u} = \\begin{bmatrix} 1 \\\\ 2 \\end{bmatrix}$ and $\\vec{v} = \\begin{bmatrix} 3 \\\\ 4 \\end{bmatrix}$, then:\n",
    "$$\n",
    "\\vec{u} \\cdot \\vec{v} = 1 \\cdot 3 + 2 \\cdot 4 = 3 + 8 = 11\n",
    "$$\n",
    "\n",
    "---\n",
    "\n",
    "## Unit Vectors\n",
    "A **unit vector** is a vector with a magnitude of 1. To convert a vector $\\vec{v}$ into a unit vector, divide it by its magnitude:\n",
    "$$\n",
    "\\hat{v} = \\frac{\\vec{v}}{|\\vec{v}|}\n",
    "$$\n",
    "\n",
    "### Example:\n",
    "If $\\vec{v} = \\begin{bmatrix} 3 \\\\ 4 \\end{bmatrix}$, then:\n",
    "$$\n",
    "|\\vec{v}| = 5 \\quad \\text{(calculated earlier)}\n",
    "$$\n",
    "$$\n",
    "\\hat{v} = \\frac{\\vec{v}}{|\\vec{v}|} = \\frac{\\begin{bmatrix} 3 \\\\ 4 \\end{bmatrix}}{5} = \\begin{bmatrix} \\frac{3}{5} \\\\ \\frac{4}{5} \\end{bmatrix}\n",
    "$$\n"
   ]
  },
  {
   "cell_type": "code",
   "execution_count": null,
   "metadata": {},
   "outputs": [],
   "source": [
    "from typing import List\n",
    "\n",
    "Vector = List[float]\n",
    "\n",
    "height_weight_age = [70,  # inches,\n",
    "                     170, # pounds,\n",
    "                     40 ] # years\n",
    "\n",
    "grades = [95,   # exam1\n",
    "          80,   # exam2\n",
    "          75,   # exam3\n",
    "          62 ]  # exam4\n",
    "\n",
    "def add(v: Vector, w: Vector) -> Vector:\n",
    "    \"\"\"Adds corresponding elements\"\"\"\n",
    "    assert len(v) == len(w), \"vectors must be the same length\"\n",
    "\n",
    "    return [v_i + w_i for v_i, w_i in zip(v, w)]\n",
    "\n",
    "assert add([1, 2, 3], [4, 5, 6]) == [5, 7, 9]\n",
    "\n",
    "def subtract(v: Vector, w: Vector) -> Vector:\n",
    "    \"\"\"Subtracts corresponding elements\"\"\"\n",
    "    assert len(v) == len(w), \"vectors must be the same length\"\n",
    "\n",
    "    return [v_i - w_i for v_i, w_i in zip(v, w)]\n",
    "\n",
    "assert subtract([5, 7, 9], [4, 5, 6]) == [1, 2, 3]\n",
    "\n",
    "def vector_sum(vectors: List[Vector]) -> Vector:\n",
    "    \"\"\"Sums all corresponding elements\"\"\"\n",
    "    # Check that vectors is not empty\n",
    "    assert vectors, \"no vectors provided!\"\n",
    "\n",
    "    # Check the vectors are all the same size\n",
    "    num_elements = len(vectors[0])\n",
    "    assert all(len(v) == num_elements for v in vectors), \"different sizes!\"\n",
    "\n",
    "    # the i-th element of the result is the sum of every vector[i]\n",
    "    return [sum(vector[i] for vector in vectors)\n",
    "                                for i in range(num_elements)]\n",
    "\n",
    "assert vector_sum([[1, 2], [3, 4], [5, 6], [7, 8]]) == [16, 20]\n",
    "\n",
    "def scalar_multiply(c: float, v: Vector) -> Vector:\n",
    "    \"\"\"Multiplies every element by c\"\"\"\n",
    "    return [c * v_i for v_i in v]\n",
    "\n",
    "assert scalar_multiply(2, [1, 2, 3]) == [2, 4, 6]\n",
    "\n",
    "def vector_mean(vectors: List[Vector]) -> Vector:\n",
    "    \"\"\"Computes the element-wise average\"\"\"\n",
    "    n = len(vectors)\n",
    "    return scalar_multiply(1/n, vector_sum(vectors))\n",
    "\n",
    "assert vector_mean([[1, 2], [3, 4], [5, 6]]) == [3, 4]\n",
    "\n",
    "def dot(v: Vector, w: Vector) -> float:\n",
    "    \"\"\"Computes v_1 * w_1 + ... + v_n * w_n\"\"\"\n",
    "    assert len(v) == len(w), \"vectors must be same length\"\n",
    "\n",
    "    return sum(v_i * w_i for v_i, w_i in zip(v, w))\n",
    "\n",
    "assert dot([1, 2, 3], [4, 5, 6]) == 32  # 1 * 4 + 2 * 5 + 3 * 6\n",
    "\n",
    "def sum_of_squares(v: Vector) -> float:\n",
    "    \"\"\"Returns v_1 * v_1 + ... + v_n * v_n\"\"\"\n",
    "    return dot(v, v)\n",
    "\n",
    "assert sum_of_squares([1, 2, 3]) == 14  # 1 * 1 + 2 * 2 + 3 * 3\n",
    "\n",
    "import math\n",
    "\n",
    "def magnitude(v: Vector) -> float:\n",
    "    \"\"\"Returns the magnitude (or length) of v\"\"\"\n",
    "    return math.sqrt(sum_of_squares(v))   # math.sqrt is square root function\n",
    "\n",
    "assert magnitude([3, 4]) == 5\n",
    "\n",
    "def squared_distance(v: Vector, w: Vector) -> float:\n",
    "    \"\"\"Computes (v_1 - w_1) ** 2 + ... + (v_n - w_n) ** 2\"\"\"\n",
    "    return sum_of_squares(subtract(v, w))\n",
    "\n",
    "def distance(v: Vector, w: Vector) -> float:\n",
    "    \"\"\"Computes the distance between v and w\"\"\"\n",
    "    return math.sqrt(squared_distance(v, w))\n",
    "\n",
    "\n",
    "def distance(v: Vector, w: Vector) -> float:  # type: ignore\n",
    "    \"\"\"distance is the same as magnitude of v - w\"\"\"\n",
    "    return magnitude(subtract(v, w))"
   ]
  },
  {
   "cell_type": "code",
   "execution_count": null,
   "metadata": {},
   "outputs": [],
   "source": [
    "'''LAB'''\n",
    "\n",
    "'''Write a function to compute the cross product of two 3D vectors.'''\n",
    "\n",
    "'''Write a function to compute the angle (in degrees) between two vectors using the dot product formula.'''\n",
    "\n",
    "'''Write a function to check if two Vectors are Orthogonal'''\n",
    "\n",
    "'''Write a function to check if two Vectors are Parallel'''"
   ]
  },
  {
   "metadata": {
    "ExecuteTime": {
     "end_time": "2025-06-30T04:45:27.970954Z",
     "start_time": "2025-06-30T04:45:26.977920Z"
    }
   },
   "cell_type": "code",
   "source": [
    "#EX 1\n",
    "from typing import List\n",
    "import numpy as np\n",
    "\n",
    "x: List[int] = [5, 12, 6]\n",
    "y: List[int] = [0, 6, 10]\n",
    "def calculate_cross_prod(u: List[int], v: List[int]):\n",
    "    return np.cross(u, v) #return array(list) la gi ?\n",
    "\n",
    "calculate_cross_prod(x, y)"
   ],
   "outputs": [
    {
     "data": {
      "text/plain": [
       "array([ 84, -50,  30])"
      ]
     },
     "execution_count": 1,
     "metadata": {},
     "output_type": "execute_result"
    }
   ],
   "execution_count": 1
  },
  {
   "metadata": {
    "ExecuteTime": {
     "end_time": "2025-06-30T04:57:16.364659Z",
     "start_time": "2025-06-30T04:57:16.353809Z"
    }
   },
   "cell_type": "code",
   "source": [
    "#EX 3\n",
    "from typing import List\n",
    "import numpy as np\n",
    "\n",
    "x: List[int] = [34,24,23]\n",
    "y: List[int] = [0,1,1]\n",
    "\n",
    "\n",
    "def dot_prod(u: List[int], v: List[int]):\n",
    "    return np.dot(u, v)\n",
    "\n",
    "dot_prod(x, y)"
   ],
   "outputs": [
    {
     "data": {
      "text/plain": [
       "47"
      ]
     },
     "execution_count": 4,
     "metadata": {},
     "output_type": "execute_result"
    }
   ],
   "execution_count": 4
  },
  {
   "metadata": {
    "ExecuteTime": {
     "end_time": "2025-06-30T04:54:39.815235Z",
     "start_time": "2025-06-30T04:54:39.806513Z"
    }
   },
   "cell_type": "code",
   "outputs": [
    {
     "data": {
      "text/plain": [
       "False"
      ]
     },
     "execution_count": 3,
     "metadata": {},
     "output_type": "execute_result"
    }
   ],
   "execution_count": 3,
   "source": [
    "#EX 3\n",
    "from typing import List\n",
    "import numpy as np\n",
    "\n",
    "x: List[int] = [34,24,23]\n",
    "y: List[int] = [0,1,1]\n",
    "\n",
    "def is_orthogonal(u: List[int], v: List[int]):\n",
    "    if np.dot(u, v) == 0:\n",
    "        return True\n",
    "    else:\n",
    "        return False\n",
    "is_orthogonal(x, y)"
   ]
  },
  {
   "metadata": {
    "ExecuteTime": {
     "end_time": "2025-06-30T06:42:42.027470Z",
     "start_time": "2025-06-30T06:42:42.021861Z"
    }
   },
   "cell_type": "code",
   "source": [
    "#EX 4\n",
    "from typing import List\n",
    "import math\n",
    "\n",
    "x: List[int] = [6, 12, 24]\n",
    "y: List[int] = [2, 4, 8]\n",
    "\n",
    "def is_parallel(u: List[int], v: List[int]) -> bool:\n",
    "    pairs: List[(int, int)] = [(v1, v2) for v1, v2 in zip(x,y)]\n",
    "    for i in range(0, len(pairs) - 1):\n",
    "        pair_1: (int, int) = pairs[i]\n",
    "        pair_2: (int, int) = pairs[i + 1]\n",
    "\n",
    "        if pair_1[0]/pair_2[0] != pair_1[1]/pair_2[1]:\n",
    "            return False\n",
    "    return True\n",
    "is_parallel(x, y)"
   ],
   "outputs": [
    {
     "data": {
      "text/plain": [
       "True"
      ]
     },
     "execution_count": 4,
     "metadata": {},
     "output_type": "execute_result"
    }
   ],
   "execution_count": 4
  }
 ],
 "metadata": {
  "kernelspec": {
   "display_name": "dsfs",
   "language": "python",
   "name": "python3"
  },
  "language_info": {
   "codemirror_mode": {
    "name": "ipython",
    "version": 3
   },
   "file_extension": ".py",
   "mimetype": "text/x-python",
   "name": "python",
   "nbconvert_exporter": "python",
   "pygments_lexer": "ipython3",
   "version": "3.6.13"
  }
 },
 "nbformat": 4,
 "nbformat_minor": 2
}
