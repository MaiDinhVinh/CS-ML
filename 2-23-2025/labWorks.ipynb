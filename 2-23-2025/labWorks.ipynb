{
 "cells": [
  {
   "metadata": {
    "ExecuteTime": {
     "end_time": "2025-06-30T08:22:58.335232Z",
     "start_time": "2025-06-30T08:22:58.329616Z"
    }
   },
   "cell_type": "code",
   "source": [
    "#EX 1\n",
    "import numpy as np\n",
    "\n",
    "X = [[1, 2, 3],  # A has 2 rows and 3 columns\n",
    "     [4, 5, 6]]\n",
    "\n",
    "Y = [[7,8,9],\n",
    "     [10,11,12]]\n",
    "\n",
    "def matrix_add(A, B):\n",
    "    return np.matrix(A) + np.matrix(B)\n",
    "matrix_add(X,Y)"
   ],
   "id": "3cd0206462f8c72e",
   "outputs": [
    {
     "data": {
      "text/plain": [
       "matrix([[ 8, 10, 12],\n",
       "        [14, 16, 18]])"
      ]
     },
     "execution_count": 39,
     "metadata": {},
     "output_type": "execute_result"
    }
   ],
   "execution_count": 39
  },
  {
   "metadata": {
    "ExecuteTime": {
     "end_time": "2025-06-30T08:22:43.756439Z",
     "start_time": "2025-06-30T08:22:43.747887Z"
    }
   },
   "cell_type": "code",
   "source": [
    "#EX 2\n",
    "import numpy as np\n",
    "\n",
    "# X = [[1, 2, 3],  # A has 2 rows and 3 columns\n",
    "#      [4, 5, 6]]\n",
    "#\n",
    "# Y = [[7,8,9]]\n",
    "# SAI QUA NGU\n",
    "\n",
    "def matrix_multiplication(A, B):\n",
    "    # return np.array(A) * np.array(B) this isn't matrix multiplitcation\n",
    "    return np.matrix(A).dot(np.matrix(B))\n",
    "# matrix_multiplication(X, Y) SAI QUA NGU\n",
    "\n",
    "X = [[1,2,3],[4,5,6]]\n",
    "Y = [[7,8],\n",
    "     [9,10],\n",
    "     [11,12]]\n",
    "matrix_multiplication(X, Y)"
   ],
   "id": "232dd7f5fda24a76",
   "outputs": [
    {
     "data": {
      "text/plain": [
       "matrix([[ 58,  64],\n",
       "        [139, 154]])"
      ]
     },
     "execution_count": 34,
     "metadata": {},
     "output_type": "execute_result"
    }
   ],
   "execution_count": 34
  },
  {
   "metadata": {
    "ExecuteTime": {
     "end_time": "2025-06-30T08:24:26.709484Z",
     "start_time": "2025-06-30T08:24:26.703467Z"
    }
   },
   "cell_type": "code",
   "source": [
    "import numpy as np\n",
    "\n",
    "def matrix_transpose(A):\n",
    "    return np.matrix(A).transpose()\n",
    "X = [[1,2,3],[4,5,6]]\n",
    "matrix_transpose(X)"
   ],
   "id": "3f49db8dc8b21f26",
   "outputs": [
    {
     "data": {
      "text/plain": [
       "matrix([[1, 4],\n",
       "        [2, 5],\n",
       "        [3, 6]])"
      ]
     },
     "execution_count": 44,
     "metadata": {},
     "output_type": "execute_result"
    }
   ],
   "execution_count": 44
  }
 ],
 "metadata": {
  "kernelspec": {
   "display_name": "Python 3",
   "language": "python",
   "name": "python3"
  },
  "language_info": {
   "codemirror_mode": {
    "name": "ipython",
    "version": 2
   },
   "file_extension": ".py",
   "mimetype": "text/x-python",
   "name": "python",
   "nbconvert_exporter": "python",
   "pygments_lexer": "ipython2",
   "version": "2.7.6"
  }
 },
 "nbformat": 4,
 "nbformat_minor": 5
}
