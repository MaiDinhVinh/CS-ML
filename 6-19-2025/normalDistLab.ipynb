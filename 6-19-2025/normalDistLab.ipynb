{
 "cells": [
  {
   "cell_type": "code",
   "id": "initial_id",
   "metadata": {
    "collapsed": true,
    "ExecuteTime": {
     "end_time": "2025-07-03T17:18:56.894125Z",
     "start_time": "2025-07-03T17:18:56.890514Z"
    }
   },
   "source": [
    "#EX 1\n",
    "from scipy.stats import norm\n",
    "\n",
    "normdist = norm(50, 2)\n",
    "defect_prob = normdist.cdf(46) + 1 - normdist.cdf(54)\n",
    "print(\"Defect probability = \" + str(defect_prob))\n",
    "\n",
    "prob = normdist.cdf(52) - normdist.cdf(49)\n",
    "print(\"Probability of a rod with length between 49 and 52 mm = \" + str(prob))"
   ],
   "outputs": [
    {
     "name": "stdout",
     "output_type": "stream",
     "text": [
      "Defect probability = 0.045500263896358306\n",
      "Probability of a rod with length between 49 and 52 mm = 0.532807207342556\n"
     ]
    }
   ],
   "execution_count": 68
  },
  {
   "metadata": {},
   "cell_type": "code",
   "outputs": [],
   "execution_count": null,
   "source": [
    "#EX 2\n",
    "import random\n",
    "\n"
   ],
   "id": "1df6379618f0539b"
  }
 ],
 "metadata": {
  "kernelspec": {
   "display_name": "Python 3",
   "language": "python",
   "name": "python3"
  },
  "language_info": {
   "codemirror_mode": {
    "name": "ipython",
    "version": 2
   },
   "file_extension": ".py",
   "mimetype": "text/x-python",
   "name": "python",
   "nbconvert_exporter": "python",
   "pygments_lexer": "ipython2",
   "version": "2.7.6"
  }
 },
 "nbformat": 4,
 "nbformat_minor": 5
}
