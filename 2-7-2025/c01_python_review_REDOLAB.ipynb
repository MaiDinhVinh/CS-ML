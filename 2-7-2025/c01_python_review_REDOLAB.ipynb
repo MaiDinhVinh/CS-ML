{
 "cells": [
  {
   "cell_type": "markdown",
   "metadata": {},
   "source": [
    "### List\n",
    "Probably the most fundamental data structure in Python is the list, which is simply an\n",
    "ordered collection (it is similar to what in other languages might be called an array,\n",
    "but with some added functionality"
   ]
  },
  {
   "cell_type": "code",
   "execution_count": null,
   "metadata": {},
   "outputs": [],
   "source": [
    "'''\n",
    "Introduction to List\n",
    "Probably the most fundamental data structure in Python is the list, which is simply an\n",
    "ordered collection (it is similar to what in other languages might be called an array,\n",
    "but with some added functionality\n",
    "'''\n",
    "integer_list = [1, 2, 3]\n",
    "heterogeneous_list = [\"string\", 0.1, True]\n",
    "list_of_lists = [integer_list, heterogeneous_list, []]\n",
    "\n",
    "list_length = len(integer_list)     # equals 3\n",
    "list_sum    = sum(integer_list)     # equals 6\n",
    "\n",
    "\n",
    "# assert list_length == 3\n",
    "# assert list_sum == 6\n",
    "\n",
    "print(list_length)\n",
    "print(list_sum)"
   ]
  },
  {
   "cell_type": "code",
   "execution_count": null,
   "metadata": {},
   "outputs": [],
   "source": [
    "'''\n",
    "Accessing and modifying an element\n",
    "'''\n",
    "x = [0, 1, 2, 3, 4, 5, 6, 7, 8, 9]\n",
    "\n",
    "zero = x[0]          # equals 0, lists are 0-indexed\n",
    "one = x[1]           # equals 1\n",
    "nine = x[-1]         # equals 9, 'Pythonic' for last element\n",
    "eight = x[-2]        # equals 8, 'Pythonic' for next-to-last element\n",
    "x[0] = -1            # now x is [-1, 1, 2, 3, ..., 9]\n",
    "\n",
    "\n",
    "# assert x == [-1, 1, 2, 3, 4, 5, 6, 7, 8, 9]\n",
    "print(x)"
   ]
  },
  {
   "cell_type": "code",
   "execution_count": 6,
   "metadata": {},
   "outputs": [],
   "source": [
    "'''\n",
    "You can also use square brackets to slice lists. \n",
    "The slice i:j means all elements from i (inclusive) to j (not inclusive). \n",
    "If you leave off the start of the slice, you’ll slice from the beginning of the list, \n",
    "and if you leave of the end of the slice, you’ll slice until the end of the list:\n",
    "'''\n",
    "first_three = x[:3]                 # [-1, 1, 2]\n",
    "three_to_end = x[3:]                # [3, 4, ..., 9]\n",
    "one_to_four = x[1:5]                # [1, 2, 3, 4]\n",
    "last_three = x[-3:]                 # [7, 8, 9]\n",
    "without_first_and_last = x[1:-1]    # [1, 2, ..., 8]\n",
    "copy_of_x = x[:]                    # [-1, 1, 2, ..., 9]\n"
   ]
  },
  {
   "cell_type": "code",
   "execution_count": 9,
   "metadata": {},
   "outputs": [],
   "source": [
    "'''\n",
    "A slice can take a third argument to indicate its stride, which can be negative:\n",
    "'''\n",
    "every_third = x[::3]                 # [-1, 3, 6, 9]\n",
    "five_to_three = x[5:2:-1]            # [5, 4, 3]\n",
    "\n",
    "'''\n",
    "check for list membership\n",
    "'''\n",
    "haveOne = 1 in [1, 2, 3]    # True\n",
    "haveZero = 0 in [1, 2, 3]    # False\n",
    "\n",
    "\n",
    "'''\n",
    "concatenate and modify a list in place\n",
    "'''\n",
    "x = [1, 2, 3]\n",
    "x.extend([4, 5, 6])     # x is now [1, 2, 3, 4, 5, 6]\n",
    "\n",
    "'''\n",
    "concatenate without modifying a list; return a new list instead\n",
    "'''\n",
    "x = [1, 2, 3]\n",
    "y = x + [4, 5, 6]       # y is [1, 2, 3, 4, 5, 6]; x is unchanged\n",
    "\n",
    "'''\n",
    "append to lists one item at a time:\n",
    "'''\n",
    "x = [1, 2, 3]\n",
    "x.append(0)      # x is now [1, 2, 3, 0]\n",
    "y = x[-1]        # equals 0\n",
    "z = len(x)       # equals 4\n",
    "\n",
    "\n",
    "'''\n",
    "unpack lists when you know how many elements they contain:\n",
    "'''\n",
    "x, y = [1, 2]    # now x is 1, y is 2\n",
    "\n",
    "\n",
    "'''\n",
    "use an underscore for a value you’re going to throw away:\n",
    "'''\n",
    "_, y = [1, 2]    # now y == 2, didn't care about the first element"
   ]
  },
  {
   "cell_type": "markdown",
   "metadata": {},
   "source": [
    "### Tuples\n",
    "Tuples are lists’ immutable cousins. Pretty much anything you can do to a list that doesn’t involve modifying it, you can do to a tuple. \n",
    "\n",
    "You specify a tuple by using parentheses (or nothing) instead of square brackets:"
   ]
  },
  {
   "cell_type": "code",
   "execution_count": null,
   "metadata": {},
   "outputs": [],
   "source": [
    "my_list = [1, 2]\n",
    "my_tuple = (1, 2)\n",
    "other_tuple = 3, 4  \n",
    "my_list[1] = 3      # my_list is now [1, 3]\n",
    "\n",
    "try:\n",
    "    my_tuple[1] = 3\n",
    "except TypeError:\n",
    "    print(\"cannot modify a tuple\")"
   ]
  },
  {
   "cell_type": "code",
   "execution_count": null,
   "metadata": {},
   "outputs": [],
   "source": [
    "'''\n",
    "Tuples are a convenient way to return multiple values from functions:\n",
    "'''\n",
    "def sum_and_product(x, y):\n",
    "    return (x + y), (x * y)\n",
    "\n",
    "sp = sum_and_product(2, 3)     # sp is (5, 6)\n",
    "s, p = sum_and_product(5, 10)  # s is 15, p is 50\n",
    "\n",
    "\n",
    "'''\n",
    "Tuples (and lists) can also be used for multiple assignment:\n",
    "'''\n",
    "x, y = 1, 2     # now x is 1, y is 2\n",
    "x, y = y, x     # Pythonic way to swap variables; now x is 2, y is 1"
   ]
  },
  {
   "cell_type": "markdown",
   "metadata": {},
   "source": [
    "### Dictionaries\n",
    "Another fundamental data structure is a dictionary, which associates values with keys and allows you to quickly retrieve the value corresponding to a given key:"
   ]
  },
  {
   "cell_type": "code",
   "execution_count": 14,
   "metadata": {},
   "outputs": [
    {
     "name": "stdout",
     "output_type": "stream",
     "text": [
      "no grade for Kate!\n"
     ]
    }
   ],
   "source": [
    "empty_dict = {}                     # Pythonic\n",
    "empty_dict2 = dict()                # less Pythonic\n",
    "grades = {\"Joel\": 80, \"Tim\": 95}    # dictionary literal\n",
    "\n",
    "'''\n",
    "look up the value for a key using square brackets:\n",
    "'''\n",
    "joels_grade = grades[\"Joel\"]        # equals 80\n",
    "\n",
    "\n",
    "'''\n",
    "get a KeyError if you ask for a key that’s not in the dictionary\n",
    "'''\n",
    "try:\n",
    "    kates_grade = grades[\"Kate\"]\n",
    "except KeyError:\n",
    "    print(\"no grade for Kate!\")\n",
    "\n",
    "\n",
    "'''\n",
    "check for the existence of a key using in:\n",
    "'''\n",
    "joel_has_grade = \"Joel\" in grades     # True\n",
    "kate_has_grade = \"Kate\" in grades     # False"
   ]
  },
  {
   "cell_type": "code",
   "execution_count": null,
   "metadata": {},
   "outputs": [],
   "source": [
    "'''\n",
    "Dictionaries have a get method that returns a default value (instead of raising an exception) \n",
    "when you look up a key that’s not in the dictionary:\n",
    "'''\n",
    "joels_grade = grades.get(\"Joel\", 0)   # equals 80\n",
    "kates_grade = grades.get(\"Kate\", 0)   # equals 0\n",
    "no_ones_grade = grades.get(\"No One\")  # default is None\n",
    "\n",
    "\n",
    "'''\n",
    "assign key/value pairs using the same square brackets:\n",
    "'''\n",
    "grades[\"Tim\"] = 99                    # replaces the old value\n",
    "grades[\"Kate\"] = 100                  # adds a third entry\n",
    "num_students = len(grades)            # equals 3"
   ]
  },
  {
   "cell_type": "code",
   "execution_count": null,
   "metadata": {},
   "outputs": [],
   "source": [
    "'''\n",
    "Besides looking for specific keys, we can look at all of them:\n",
    "'''\n",
    "tweet = {\n",
    "    \"user\" : \"joelgrus\",\n",
    "    \"text\" : \"Data Science is Awesome\",\n",
    "    \"retweet_count\" : 100,\n",
    "    \"hashtags\" : [\"#data\", \"#science\", \"#datascience\", \"#awesome\", \"#yolo\"]\n",
    "}\n",
    "\n",
    "tweet_keys   = tweet.keys()     # iterable for the keys\n",
    "tweet_values = tweet.values()   # iterable for the values\n",
    "tweet_items  = tweet.items()    # iterable for the (key, value) tuples\n",
    "\n",
    "\"user\" in tweet_keys            # True, but not Pythonic\n",
    "\"user\" in tweet                 # Pythonic way of checking for keys\n",
    "\"joelgrus\" in tweet_values      # True (slow but the only way to check)"
   ]
  },
  {
   "cell_type": "code",
   "execution_count": null,
   "metadata": {},
   "outputs": [],
   "source": [
    "'''\n",
    "defaultdict\n",
    "A defaultdict is like a regular dictionary, \n",
    "except that when you try to look up a key it doesn’t contain, \n",
    "it first adds a value for it using a zero-argument function you provided when you created it. \n",
    "In order to use defaultdicts, you have to import them from collections:\n",
    "'''\n",
    "from collections import defaultdict\n",
    "\n",
    "document = [\"data\", \"science\", \"machine\", \"learning\"]\n",
    "\n",
    "word_counts = defaultdict(int)          # int() produces 0\n",
    "for word in document:\n",
    "    word_counts[word] += 1              # initialize 0 then plus 1\n",
    "\n",
    "\n",
    "'''\n",
    "useful with list or dict, or even your own functions:\n",
    "useful when we’re using dictionaries to “collect” results by some key and don’t want to have to check every time to see if the key exists yet.\n",
    "'''\n",
    "dd_list = defaultdict(list)             # list() produces an empty list\n",
    "dd_list[2].append(1)                    # now dd_list contains {2: [1]}\n",
    "\n",
    "dd_dict = defaultdict(dict)             # dict() produces an empty dict\n",
    "dd_dict[\"Joel\"][\"City\"] = \"Seattle\"     # {\"Joel\" : {\"City\": Seattle\"}}\n",
    "\n",
    "dd_pair = defaultdict(lambda: [0, 0])\n",
    "dd_pair[2][1] = 1                       # dd_pair[2] was list [0, 0] first; now dd_pair contains {2: [0, 1]}"
   ]
  },
  {
   "cell_type": "markdown",
   "metadata": {},
   "source": [
    "### Counter\n",
    "A Counter turns a sequence of values into a defaultdict(int)-like object mapping keys to counts:"
   ]
  },
  {
   "cell_type": "code",
   "execution_count": null,
   "metadata": {},
   "outputs": [],
   "source": [
    "from collections import Counter\n",
    "c = Counter([0, 1, 2, 0])          # c is (basically) {0: 2, 1: 1, 2: 1}\n",
    "\n",
    "document = [\"data\", \"science\", \"machine\", \"learning\", \"supervised\", \"learning\"]\n",
    "word_counts = Counter(document)    # Counter({'learning': 2, 'data': 1, 'science': 1, 'machine': 1, 'supervised': 1})\n",
    "\n",
    "# print(word_counts)\n",
    "\n",
    "# print the 10 most common words and their counts\n",
    "for word, count in word_counts.most_common(10):\n",
    "    print(word, count)"
   ]
  },
  {
   "cell_type": "markdown",
   "metadata": {},
   "source": [
    "### Sets\n",
    "a collection of **distinct** elements"
   ]
  },
  {
   "cell_type": "code",
   "execution_count": null,
   "metadata": {},
   "outputs": [],
   "source": [
    "'''\n",
    "You can define a set by listing its elements between curly braces:\n",
    "{} means 'empty dict'\n",
    "use set() to create an empty set\n",
    "'''\n",
    "\n",
    "primes_below_10 = {2, 3, 5, 7}\n",
    "s = set()\n",
    "s.add(1)       # s is now {1}\n",
    "s.add(2)       # s is now {1, 2}\n",
    "s.add(2)       # s is still {1, 2}\n",
    "x = len(s)     # equals 2\n",
    "y = 2 in s     # equals True\n",
    "z = 3 in s     # equals False\n"
   ]
  },
  {
   "cell_type": "markdown",
   "metadata": {},
   "source": [
    "#### Two reasons to use Sets"
   ]
  },
  {
   "cell_type": "code",
   "execution_count": null,
   "metadata": {},
   "outputs": [],
   "source": [
    "'''\n",
    "The first is that in is a very fast operation on sets.\n",
    "'''\n",
    "\n",
    "hundreds_of_other_words = [\n",
    "                            # there are a lot of words in here\n",
    "                           ]\n",
    "stopwords_list = [\"a\", \"an\", \"at\"] + hundreds_of_other_words + [\"yet\", \"you\"]\n",
    "\n",
    "haveZip = \"zip\" in stopwords_list     # False, but have to check every element i.e. a slow operation\n",
    "\n",
    "stopwords_set = set(stopwords_list)\n",
    "haveZip = \"zip\" in stopwords_set      # very fast to check\n",
    "\n",
    "'''\n",
    "The second reason is to find the distinct items in a collection:\n",
    "'''\n",
    "\n",
    "item_list = [1, 2, 3, 1, 2, 3]\n",
    "num_items = len(item_list)                # 6\n",
    "item_set = set(item_list)                 # {1, 2, 3}\n",
    "num_distinct_items = len(item_set)        # 3\n",
    "distinct_item_list = list(item_set)       # [1, 2, 3]"
   ]
  },
  {
   "cell_type": "markdown",
   "metadata": {},
   "source": [
    "### List Comprehensions\n",
    "Frequently, you’ll want to transform a list into another list by choosing only certain elements, by transforming elements, or both. The Pythonic way to do this is with list comprehensions:"
   ]
  },
  {
   "cell_type": "code",
   "execution_count": null,
   "metadata": {},
   "outputs": [],
   "source": [
    "even_numbers = [x for x in range(5) if x % 2 == 0]  # [0, 2, 4]\n",
    "squares      = [x * x for x in range(5)]            # [0, 1, 4, 9, 16]\n",
    "even_squares = [x * x for x in even_numbers]        # [0, 4, 16]\n",
    "\n",
    "'''\n",
    "turn lists into dictionaries or sets:\n",
    "'''\n",
    "square_dict = {x: x * x for x in range(5)}  # {0: 0, 1: 1, 2: 4, 3: 9, 4: 16} \n",
    "square_set  = {x * x for x in [1, -1]}      # {1}\n",
    "\n",
    "\n",
    "'''\n",
    "If you don’t need the value from the list, it’s common to use an underscore as the variable:\n",
    "'''\n",
    "zeros = [0 for _ in even_numbers]      # has the same length as even_numbers\n",
    "print(zeros)\n",
    "\n",
    "\n",
    "'''\n",
    "multiple for loops \n",
    "'''\n",
    "pairs = [(x, y)\n",
    "         for x in range(10)\n",
    "            for y in range(10)]   # 100 pairs (0,0) (0,1) ... (9,8), (9,9)\n",
    "print(pairs)\n",
    "\n",
    "\n",
    "increasing_pairs = [(x, y)                       # only pairs with x < y,\n",
    "                    for x in range(10)           # range(lo, hi) equals\n",
    "                        for y in range(x + 1, 10)]   # [lo, lo + 1, ..., hi - 1]\n",
    "print(increasing_pairs)\n"
   ]
  },
  {
   "cell_type": "markdown",
   "metadata": {},
   "source": [
    "### Object Oriented Programming\n",
    "#### Class"
   ]
  },
  {
   "cell_type": "code",
   "execution_count": null,
   "metadata": {},
   "outputs": [],
   "source": [
    "class CountingClicker:\n",
    "    \"\"\"A class can/should have a docstring, just like a function\"\"\"\n",
    "\n",
    "    '''\n",
    "    self keyword is like this keyword in Java\n",
    "    All instance methods must have the first parameter be self\n",
    "    '''\n",
    "\n",
    "    # constructor\n",
    "    def __init__(self, count = 0):\n",
    "        self.count = count          # declare and initialize instance variables\n",
    "\n",
    "    def __repr__(self):\n",
    "        return f\"CountingClicker(count={self.count})\"   # toString() in Java\n",
    "\n",
    "    def click(self, num_times = 1):\n",
    "        \"\"\"Click the clicker some number of times.\"\"\"\n",
    "        self.count += num_times\n",
    "\n",
    "    def read(self):\n",
    "        return self.count\n",
    "\n",
    "    def reset(self):\n",
    "        self.count = 0\n",
    "\n",
    "clicker = CountingClicker()\n",
    "# assert clicker.read() == 0, \"clicker should start with count 0\"\n",
    "print(clicker.read())\n",
    "\n",
    "clicker.click()\n",
    "clicker.click()\n",
    "# assert clicker.read() == 2, \"after two clicks, clicker should have count 2\"\n",
    "print(clicker.read())\n",
    "\n",
    "clicker.reset()\n",
    "# assert clicker.read() == 0, \"after reset, clicker should be back to 0\"\n",
    "print(clicker.read())"
   ]
  },
  {
   "cell_type": "markdown",
   "metadata": {},
   "source": [
    "#### Inheritance"
   ]
  },
  {
   "cell_type": "code",
   "execution_count": null,
   "metadata": {},
   "outputs": [],
   "source": [
    "# A subclass inherits all the behavior of its parent class.\n",
    "# This class has all the same methods as CountingClicker\n",
    "# Except that it has a reset method that does nothing.\n",
    "class NoResetClicker(CountingClicker):\n",
    "\n",
    "    '''\n",
    "    The pass statement is used as a placeholder for future code.\n",
    "    When the pass statement is executed, nothing happens, \n",
    "    but you avoid getting an error when empty code is not allowed.\n",
    "\n",
    "    Empty code is not allowed in loops, function definitions, class definitions, or in if statements.\n",
    "    '''\n",
    "    def reset(self):\n",
    "        pass\n",
    "\n",
    "clicker2 = NoResetClicker()\n",
    "# assert clicker2.read() == 0\n",
    "print(clicker.read())\n",
    "\n",
    "clicker2.click()\n",
    "# assert clicker2.read() == 1\n",
    "print(clicker.read())\n",
    "\n",
    "clicker2.reset()\n",
    "# assert clicker2.read() == 1, \"reset shouldn't do anything\"\n",
    "print(clicker.read())"
   ]
  },
  {
   "cell_type": "markdown",
   "metadata": {},
   "source": [
    "### Iterables and Generators\n",
    "A list of a billion numbers takes up a lot of memory. \n",
    "\n",
    "If you only want the elements one at a time, there’s no good reason to keep them all around. \n",
    "\n",
    "If you only end up needing the first several elements, generating the entire billion is hugely wasteful."
   ]
  },
  {
   "cell_type": "code",
   "execution_count": 2,
   "metadata": {},
   "outputs": [
    {
     "name": "stdout",
     "output_type": "stream",
     "text": [
      "i: 0\n",
      "i: 1\n",
      "i: 2\n",
      "i: 3\n",
      "i: 4\n",
      "i: 5\n",
      "i: 6\n",
      "i: 7\n",
      "i: 8\n",
      "i: 9\n"
     ]
    }
   ],
   "source": [
    "# One way to create generators is with functions and the yield operator:\n",
    "def generate_range(n):\n",
    "    i = 0\n",
    "    while i < n:\n",
    "        yield i   # every call to yield produces a value of the generator\n",
    "        i += 1\n",
    "\n",
    "# The following loop will consume the yielded values one at a time until none are left:\n",
    "for i in generate_range(10):\n",
    "    print(f\"i: {i}\")\n",
    "\n",
    "'''\n",
    "With a generator, you can even create an infinite sequence:\n",
    "although you probably shouldn’t iterate over it without using some kind of break logic.\n",
    "'''\n",
    "def natural_numbers():\n",
    "    \"\"\"returns 1, 2, 3, ...\"\"\"\n",
    "    n = 1\n",
    "    while True:\n",
    "        yield n\n",
    "        n += 1\n",
    "\n",
    "\n",
    "'''\n",
    "NOTE:\n",
    "The down side of laziness is that you can only iterate through a generator once. \n",
    "If you need to iterate through something multiple times, \n",
    "you’ll need to either re-create the generator each time or use a list. \n",
    "If generating the values is expensive, that might be a good reason to use a list instead.\n",
    "'''"
   ]
  },
  {
   "cell_type": "code",
   "execution_count": null,
   "metadata": {},
   "outputs": [],
   "source": [
    "'''\n",
    "when we’re iterating over a list or a generator \n",
    "we’ll want not just the values but also their indices\n",
    "'''\n",
    "names = [\"Alice\", \"Bob\", \"Charlie\", \"Debbie\"]\n",
    "\n",
    "# not Pythonic\n",
    "for i in range(len(names)):\n",
    "    print(f\"name {i} is {names[i]}\")\n",
    "\n",
    "# also not Pythonic\n",
    "i = 0\n",
    "for name in names:\n",
    "    print(f\"name {i} is {names[i]}\")\n",
    "    i += 1\n",
    "\n",
    "# Pythonic\n",
    "for i, name in enumerate(names):\n",
    "    print(f\"name {i} is {name}\")\n"
   ]
  },
  {
   "cell_type": "markdown",
   "metadata": {},
   "source": [
    "### zip and Argument Unpacking"
   ]
  },
  {
   "cell_type": "code",
   "execution_count": 5,
   "metadata": {},
   "outputs": [
    {
     "name": "stdout",
     "output_type": "stream",
     "text": [
      "('a', 1)\n",
      "('b', 2)\n",
      "('c', 3)\n"
     ]
    }
   ],
   "source": [
    "# The zip function transforms multiple iterables into a single iterable\n",
    "list1 = ['a', 'b', 'c']\n",
    "list2 = [1, 2, 3]\n",
    "\n",
    "# zip is lazy, so you have to do something like the following\n",
    "for pair in zip(list1, list2):\n",
    "    print(pair)\n",
    "\n",
    "# [pair for pair in zip(list1, list2)]    # is [('a', 1), ('b', 2), ('c', 3)]"
   ]
  },
  {
   "cell_type": "code",
   "execution_count": 6,
   "metadata": {},
   "outputs": [
    {
     "name": "stdout",
     "output_type": "stream",
     "text": [
      "('a', 'b', 'c')\n",
      "(1, 2, 3)\n"
     ]
    }
   ],
   "source": [
    "# You can also “unzip” a list using a strange trick:\n",
    "\n",
    "pairs = [('a', 1), ('b', 2), ('c', 3)]\n",
    "letters, numbers = zip(*pairs)      # equivalent to: letters, numbers = zip(('a', 1), ('b', 2), ('c', 3))\n",
    "\n",
    "print(letters)\n",
    "print(numbers)"
   ]
  },
  {
   "cell_type": "code",
   "execution_count": 7,
   "metadata": {},
   "outputs": [
    {
     "name": "stdout",
     "output_type": "stream",
     "text": [
      "add expects two inputs\n"
     ]
    },
    {
     "data": {
      "text/plain": [
       "3"
      ]
     },
     "execution_count": 7,
     "metadata": {},
     "output_type": "execute_result"
    }
   ],
   "source": [
    "# You can use argument unpacking with any function:\n",
    "def add(a, b): \n",
    "    return a + b\n",
    "\n",
    "add(1, 2)      # returns 3\n",
    "try:\n",
    "    add([1, 2])\n",
    "except TypeError:\n",
    "    print(\"add expects two inputs\")\n",
    "    \n",
    "add(*[1, 2])   # returns 3"
   ]
  },
  {
   "cell_type": "markdown",
   "metadata": {},
   "source": [
    "### args and kwargs\n",
    "a way to specify a function that takes **arbitrary** arguments"
   ]
  },
  {
   "cell_type": "code",
   "execution_count": 10,
   "metadata": {},
   "outputs": [
    {
     "name": "stdout",
     "output_type": "stream",
     "text": [
      "unnamed args: (1, 2)\n",
      "keyword args: {'key': 'word', 'key2': 'word2'}\n",
      "6\n"
     ]
    }
   ],
   "source": [
    "def magic(*args, **kwargs):\n",
    "    print(\"unnamed args:\", args)\n",
    "    print(\"keyword args:\", kwargs)\n",
    "\n",
    "magic(1, 2, key=\"word\", key2=\"word2\")\n",
    "\n",
    "# prints\n",
    "#  unnamed args: (1, 2)\n",
    "#  keyword args: {'key': 'word', 'key2': 'word2'}\n",
    "\n",
    "'''\n",
    "NOTE: \n",
    "args is a tuple of its unnamed arguments \n",
    "kwargs is a dict of its named arguments\n",
    "'''\n",
    "\n",
    "def other_way_magic(x, y, z):\n",
    "    return x + y + z\n",
    "\n",
    "x_y_list = [1, 2]\n",
    "z_dict = {\"z\": 3}\n",
    "# assert other_way_magic(*x_y_list, **z_dict) == 6, \"1 + 2 + 3 should be 6\"\n",
    "print(other_way_magic(*x_y_list, **z_dict))\n",
    "\n",
    "\n",
    "'''\n",
    "NOTE:\n",
    "As a general rule, your code will be more correct and more readable \n",
    "if you are explicit about what sorts of arguments your functions require; \n",
    "accordingly, we will use args and kwargs only when we have no other option.\n",
    "'''"
   ]
  },
  {
   "cell_type": "markdown",
   "metadata": {},
   "source": [
    "### Type Annotations"
   ]
  },
  {
   "cell_type": "code",
   "execution_count": 12,
   "metadata": {},
   "outputs": [
    {
     "name": "stdout",
     "output_type": "stream",
     "text": [
      "cannot add an int to a string\n"
     ]
    },
    {
     "data": {
      "text/plain": [
       "'hi there'"
      ]
     },
     "execution_count": 12,
     "metadata": {},
     "output_type": "execute_result"
    }
   ],
   "source": [
    "'''\n",
    "Python is a dynamically typed language. \n",
    "That means that it in general it doesn’t care about the types of objects we use, \n",
    "as long as we use them in valid ways:\n",
    "'''\n",
    "\n",
    "def add(a, b):\n",
    "    return a + b\n",
    "\n",
    "assert add(10, 5) == 15,                  \"+ is valid for numbers\"\n",
    "assert add([1, 2], [3]) == [1, 2, 3],     \"+ is valid for lists\"\n",
    "assert add(\"hi \", \"there\") == \"hi there\", \"+ is valid for strings\"\n",
    "\n",
    "try:\n",
    "    add(10, \"five\")\n",
    "except TypeError:\n",
    "    print(\"cannot add an int to a string\")\n",
    "\n",
    "\n",
    "# whereas in a statically typed language our functions and objects would have specific types:\n",
    "def add(a: int, b: int) -> int:\n",
    "    return a + b\n",
    "\n",
    "add(10, 5)           # you'd like this to be OK\n",
    "add(\"hi \", \"there\")  # you'd like this to be not OK (but in fact it is still OK)\n",
    "\n",
    "'''\n",
    "There are still many good reasons to use type annotations in your Python code:\n",
    "'''\n"
   ]
  },
  {
   "cell_type": "markdown",
   "metadata": {},
   "source": [
    "#### *typing* module\n",
    "This following code examples use *typing* module in python 3.6.\n",
    "\n",
    "This module will be changed in the future version"
   ]
  },
  {
   "cell_type": "code",
   "execution_count": null,
   "metadata": {},
   "outputs": [],
   "source": [
    "'''\n",
    "This isn’t wrong, but the type is not specific enough. \n",
    "It’s clear we really want xs to be a list of floats, not (say) a list of strings.\n",
    "'''\n",
    "def total(xs: list) -> float:\n",
    "    return sum(total)"
   ]
  },
  {
   "cell_type": "code",
   "execution_count": 13,
   "metadata": {},
   "outputs": [],
   "source": [
    "from typing import List  # note capital L\n",
    "def total(xs: List[float]) -> float:\n",
    "    return sum(total)\n",
    "\n",
    "\n",
    "from typing import Optional\n",
    "values: List[int] = []\n",
    "best_so_far: Optional[float] = None  # allowed to be either a float or None\n"
   ]
  },
  {
   "cell_type": "code",
   "execution_count": null,
   "metadata": {},
   "outputs": [],
   "source": [
    "lazy = True\n",
    "\n",
    "from typing import Dict, Iterable, Tuple\n",
    "\n",
    "# keys are strings, values are ints\n",
    "counts: Dict[str, int] = {'data': 1, 'science': 2}\n",
    "\n",
    "# lists and generators are both iterable\n",
    "if lazy:\n",
    "    evens: Iterable[int] = (x for x in range(10) if x % 2 == 0)\n",
    "else:\n",
    "    evens = [0, 2, 4, 6, 8]\n",
    "\n",
    "# tuples specify a type for each element\n",
    "triple: Tuple[int, float, int] = (10, 2.3, 5)"
   ]
  },
  {
   "cell_type": "code",
   "execution_count": null,
   "metadata": {},
   "outputs": [],
   "source": [
    "from typing import Callable\n",
    "\n",
    "# The type hint says that repeater is a function that takes\n",
    "# two arguments, a string and an int, and returns a string.\n",
    "def twice(repeater: Callable[[str, int], str], s: str) -> str:\n",
    "    return repeater(s, 2)\n",
    "\n",
    "def comma_repeater(s: str, n: int) -> str:\n",
    "    n_copies = [s for _ in range(n)]\n",
    "    return ', '.join(n_copies)\n",
    "\n",
    "assert twice(comma_repeater, \"type hints\") == \"type hints, type hints\""
   ]
  },
  {
   "cell_type": "markdown",
   "metadata": {},
   "source": [
    "### Let's Practice!"
   ]
  },
  {
   "cell_type": "markdown",
   "metadata": {},
   "source": [
    "Exercise\n",
    "\n",
    "Two words are anagrams if you can rearrange the letters from one to spell the other. For example, **tops** is an anagram of **stop**.\n",
    "\n",
    "One way to check whether two words are anagrams is to sort the letters in both words. If the lists of sorted letters are the same, the words are anagrams.\n",
    "\n",
    "Write a function called *is_anagram* that takes two strings and returns True if they are anagrams."
   ]
  },
  {
   "metadata": {
    "ExecuteTime": {
     "end_time": "2025-06-25T20:28:40.314526Z",
     "start_time": "2025-06-25T20:28:40.308651Z"
    }
   },
   "cell_type": "code",
   "source": [
    "from typing import List, Counter\n",
    "def is_anagram(inp1: str, inp2: str) -> bool:\n",
    "    if len(inp1) != len(inp2):\n",
    "        return False\n",
    "    else:\n",
    "        list_char_1: List[str] = [char for char in inp1]\n",
    "        list_char_2: List[str] = [char for char in inp2]\n",
    "\n",
    "        list_char_1.sort()\n",
    "        list_char_2.sort()\n",
    "\n",
    "        for char in list_char_1:\n",
    "            if char not in list_char_2:\n",
    "                return False\n",
    "    return True\n",
    "\n",
    "is_anagram(\"school\", \"coolsh\")"
   ],
   "outputs": [
    {
     "data": {
      "text/plain": [
       "True"
      ]
     },
     "execution_count": 8,
     "metadata": {},
     "output_type": "execute_result"
    }
   ],
   "execution_count": 8
  },
  {
   "cell_type": "markdown",
   "metadata": {},
   "source": [
    "Exercise\n",
    "\n",
    "Write a function called **reverse_sentence** that takes as an argument a string that\n",
    "contains any number of words separated by spaces. It should return a new string that\n",
    "contains the same words in reverse order. \n",
    "\n",
    "For example, if the argument is “Reverse\n",
    "this sentence,” the result should be “Sentence this reverse.”\n",
    "\n",
    "\n",
    "*Hint*: you can use the capitalize methods to capitalize the first word and convert\n",
    "the other words to lowercase."
   ]
  },
  {
   "metadata": {},
   "cell_type": "code",
   "source": [
    "from typing import List\n",
    "def reverse_sentence(inp1: str) -> str:\n",
    "    init_spaces: str = \"\"\n",
    "    last_space_init_pos: int = 0\n",
    "    for i in range(len(inp1)):\n",
    "        if inp1[i] != \" \":\n",
    "            last_space_init_pos = i\n",
    "            break\n",
    "        else:\n",
    "            init_spaces += \" \"\n",
    "    last_spaces = \"\"\n",
    "    last_space_last_pos: int = len(inp1)\n",
    "    for i in range(len(inp1) - 1, -1, -1): # -2 vi da them 1 space o dau, neu k add space day thi word cuoi cung se bi ignore\n",
    "        if inp1[i] != \" \":\n",
    "            last_space_last_pos = i + 1\n",
    "            break\n",
    "        else:\n",
    "            last_spaces += \" \"\n",
    "    all_words: List[str] = []\n",
    "    word: str = \"\"\n",
    "    for char in inp1[last_space_init_pos:last_space_last_pos]:\n",
    "        if char != \" \":\n",
    "            word += char\n",
    "        else:\n",
    "            all_words.append(word)\n",
    "            word = \"\"\n",
    "    all_words.append(word)\n",
    "    result: str = last_spaces\n",
    "    all_words_reverse = []\n",
    "    for i in range(len(all_words) - 1, -1, -1):\n",
    "        all_words_reverse.append(all_words[i])\n",
    "    result += \" \".join(all_words_reverse)\n",
    "    result += init_spaces\n",
    "    return result\n",
    "\n",
    "\n",
    "def reverse_sentence(inp1: str) -> str:\n",
    "    # Find leading and trailing spaces\n",
    "    stripped = inp1.strip()\n",
    "    leading_spaces = inp1[:len(inp1) - len(inp1.lstrip())]\n",
    "    trailing_spaces = inp1[len(inp1.rstrip()):]\n",
    "\n",
    "    # Reverse words and reconstruct\n",
    "    words = stripped.split()\n",
    "    return trailing_spaces + ' '.join(reversed(words)) + leading_spaces"
   ],
   "outputs": [],
   "execution_count": null
  },
  {
   "cell_type": "markdown",
   "metadata": {},
   "source": [
    "Exercise\n",
    "\n",
    "Write a function named **has_duplicates** that takes a sequence — like a list or string—\n",
    "as a parameter and returns True if there is any element that appears in the sequence\n",
    "more than once"
   ]
  },
  {
   "cell_type": "markdown",
   "metadata": {},
   "source": [
    "Exercise\n",
    "\n",
    "A word is “interlocking” if we can split it into two words by taking alternating letters.\n",
    "For example, “schooled” is an interlocking word because it can be split into “shoe”\n",
    "and “cold\"\n",
    "\n",
    "Write a function called **is_interlocking** that takes a word as an argument and\n",
    "returns True if it can be split into two interlocking words."
   ]
  },
  {
   "cell_type": "markdown",
   "metadata": {},
   "source": [
    "Exercise\n",
    "\n",
    "We make a dictionary that maps from each letter to its index in the alphabet:\n",
    "\n",
    "```python\n",
    "letters = 'abcdefghijklmnopqrstuvwxyz'\n",
    "numbers = range(len(letters))\n",
    "letter_map = dict(zip(letters, numbers))\n",
    "```\n",
    "\n",
    "For example, the index of 'a' is 0:\n",
    "```python\n",
    "letter_map['a']     # 0\n",
    "```\n",
    "\n",
    "To go in the other direction, we can use list indexing. \n",
    "For example, the letter at index 1 is 'b':\n",
    "```python\n",
    "letters[1]      # 'b'\n",
    "```\n",
    "\n",
    "We can use letter_map and letters to encode and decode words using a Caesar cipher.\n",
    "\n",
    "A Caesar cipher is a weak form of encryption that involves shifting each letter by a\n",
    "fixed number of places in the alphabet, wrapping around to the beginning if neces‐\n",
    "sary. For example, 'a' shifted by 2 is 'c', and 'z' shifted by 1 is 'a'.\n",
    "\n",
    "Write a function called **shift_word** that takes as parameters a string and an integer,\n",
    "and returns a new string that contains the letters from the string shifted by the given\n",
    "number of places.\n",
    "\n",
    "To test your function, confirm that “cheer” shifted by 7 is “jolly,” and “melon” shifted\n",
    "by 16 is “cubed."
   ]
  },
  {
   "cell_type": "markdown",
   "metadata": {},
   "source": [
    "Exercise\n",
    "\n",
    "Write a function called most_frequent_letters that takes a string and prints the \n",
    "letters in decreasing order of frequency."
   ]
  },
  {
   "cell_type": "markdown",
   "metadata": {},
   "source": [
    "Exercise\n",
    "\n",
    "Write a function called word_distance that takes two words with the same length and returns the number of places where the two words differ."
   ]
  },
  {
   "cell_type": "markdown",
   "metadata": {},
   "source": []
  }
 ],
 "metadata": {
  "kernelspec": {
   "display_name": "learningML",
   "language": "python",
   "name": "python3"
  },
  "language_info": {
   "codemirror_mode": {
    "name": "ipython",
    "version": 3
   },
   "file_extension": ".py",
   "mimetype": "text/x-python",
   "name": "python",
   "nbconvert_exporter": "python",
   "pygments_lexer": "ipython3",
   "version": "3.6.13"
  }
 },
 "nbformat": 4,
 "nbformat_minor": 2
}
